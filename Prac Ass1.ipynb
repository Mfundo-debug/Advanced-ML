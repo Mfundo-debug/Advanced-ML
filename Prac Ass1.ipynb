{
 "cells": [
  {
   "cell_type": "markdown",
   "metadata": {
    "toc": true
   },
   "source": [
    "<h1>Table of Contents<span class=\"tocSkip\"></span></h1>\n",
    "<div class=\"toc\"><ul class=\"toc-item\"><li><span><a href=\"#Mfundo-Monchwe\" data-toc-modified-id=\"Mfundo-Monchwe-1\"><span class=\"toc-item-num\">1&nbsp;&nbsp;</span>Mfundo Monchwe</a></span></li></ul></div>"
   ]
  },
  {
   "cell_type": "markdown",
   "metadata": {},
   "source": [
    "# Mfundo Monchwe"
   ]
  },
  {
   "cell_type": "markdown",
   "metadata": {},
   "source": [
    "Create a python class with the following objectives:\n",
    "\n",
    "A method for creating a design matrix for a feature vector x\n",
    "A method for learning the parameters of the model\n",
    "A method for predicting target values given input values x using two methods:\n",
    "OLS\n",
    "MLE\n",
    "A plotting method for a fitted line and 1 standard division for denoting uncertainties with the MLE method."
   ]
  },
  {
   "cell_type": "code",
   "execution_count": 1,
   "metadata": {
    "ExecuteTime": {
     "end_time": "2021-04-16T14:12:32.775242Z",
     "start_time": "2021-04-16T14:12:32.370189Z"
    }
   },
   "outputs": [],
   "source": [
    "import numpy as np\n",
    "import matplotlib.pyplot as plt"
   ]
  },
  {
   "cell_type": "code",
   "execution_count": 10,
   "metadata": {
    "ExecuteTime": {
     "end_time": "2021-04-16T14:14:50.962238Z",
     "start_time": "2021-04-16T14:14:50.947121Z"
    }
   },
   "outputs": [],
   "source": [
    "class SimpleRegression():\n",
    "    \"\"\"\n",
    "    description about your model \n",
    "    \"\"\"\n",
    "    def __init__(self, n, mu, sigma):\n",
    "        self.n = n\n",
    "        self.mu = mu\n",
    "        self.sigma = sigma\n",
    "        \n",
    "    def designMatrix(self):\n",
    "        global X, y_ob, x\n",
    "        x = np.random.uniform(self.mu, self.sigma, self.n)\n",
    "        y = 2 + 3*x\n",
    "        y_ob = y + np.random.normal(self.mu, self.sigma, self.n)\n",
    "        X = np.c_[np.ones(self.n), x]\n",
    "        return X\n",
    "    \n",
    "    def plotData(self):\n",
    "        plt.plot(x, y_ob, '.');\n",
    "    \n",
    "    def ols(self):\n",
    "        global θ\n",
    "        θ = np.linalg.inv(X.T.dot(X)).dot(X.T).dot(y_ob)\n",
    "        return θ\n",
    "    \n",
    "    def mle(self):\n",
    "        global θ, var \n",
    "        θ = np.linalg.inv(X.T.dot(X)).dot(X.T).dot(y_ob)\n",
    "        var = (1/self.n)*((y_ob - X.dot(θ)).T.dot(y_ob - X.dot(θ)))\n",
    "        print(\"Model Parameters:\",  θ)\n",
    "        print(\"Sigma^2:\", var)\n",
    "    \n",
    "    def olsPlot(self):\n",
    "        xc = x[np.argsort(x)] # need for y = b0 + b1xc\n",
    "        plt.plot(x, y_ob, '.'); # Model plot\n",
    "        plt.plot(xc, θ[0] + θ[1]*xc);\n",
    "        plt.show();\n",
    "        \n",
    "    def mlePlot(self):\n",
    "        xc = x[np.argsort(x)] # need for y = b0 + b1xc\n",
    "        plt.plot(x, y_ob, '.'); # Model plot\n",
    "        plt.plot(xc, θ[0] + θ[1]*xc);\n",
    "        plt.plot(xc, θ[0] + θ[1]*xc + var**(1/2), label = \"Upper Region\");\n",
    "        plt.plot(xc, θ[0] + θ[1]*xc - var**(1/2), label = \"lower Region\");\n",
    "        plt.legend(loc='upper left')\n",
    "        plt.show();\n",
    "        "
   ]
  },
  {
   "cell_type": "code",
   "execution_count": 11,
   "metadata": {
    "ExecuteTime": {
     "end_time": "2021-04-16T14:14:53.282886Z",
     "start_time": "2021-04-16T14:14:53.278897Z"
    }
   },
   "outputs": [],
   "source": [
    "r1 = SimpleRegression(200, 0, 0.1)\n"
   ]
  },
  {
   "cell_type": "code",
   "execution_count": 12,
   "metadata": {
    "ExecuteTime": {
     "end_time": "2021-04-16T14:14:53.774226Z",
     "start_time": "2021-04-16T14:14:53.735772Z"
    }
   },
   "outputs": [
    {
     "data": {
      "text/plain": [
       "array([[1.        , 0.08509483],\n",
       "       [1.        , 0.05818479],\n",
       "       [1.        , 0.00826312],\n",
       "       [1.        , 0.09860713],\n",
       "       [1.        , 0.05887926],\n",
       "       [1.        , 0.03661045],\n",
       "       [1.        , 0.03386643],\n",
       "       [1.        , 0.08128521],\n",
       "       [1.        , 0.03892421],\n",
       "       [1.        , 0.02162962],\n",
       "       [1.        , 0.03907373],\n",
       "       [1.        , 0.01460761],\n",
       "       [1.        , 0.00510704],\n",
       "       [1.        , 0.00671023],\n",
       "       [1.        , 0.06933995],\n",
       "       [1.        , 0.06283493],\n",
       "       [1.        , 0.05436314],\n",
       "       [1.        , 0.06142711],\n",
       "       [1.        , 0.05950627],\n",
       "       [1.        , 0.07445165],\n",
       "       [1.        , 0.06588619],\n",
       "       [1.        , 0.04146535],\n",
       "       [1.        , 0.06018763],\n",
       "       [1.        , 0.04379984],\n",
       "       [1.        , 0.06646855],\n",
       "       [1.        , 0.08434496],\n",
       "       [1.        , 0.01002713],\n",
       "       [1.        , 0.05756659],\n",
       "       [1.        , 0.09938742],\n",
       "       [1.        , 0.05331264],\n",
       "       [1.        , 0.049122  ],\n",
       "       [1.        , 0.09162935],\n",
       "       [1.        , 0.00923885],\n",
       "       [1.        , 0.02485963],\n",
       "       [1.        , 0.06508964],\n",
       "       [1.        , 0.09681179],\n",
       "       [1.        , 0.05182309],\n",
       "       [1.        , 0.05920214],\n",
       "       [1.        , 0.07247098],\n",
       "       [1.        , 0.08394205],\n",
       "       [1.        , 0.03172034],\n",
       "       [1.        , 0.04665329],\n",
       "       [1.        , 0.01251577],\n",
       "       [1.        , 0.0772956 ],\n",
       "       [1.        , 0.087515  ],\n",
       "       [1.        , 0.0720048 ],\n",
       "       [1.        , 0.00502081],\n",
       "       [1.        , 0.0846117 ],\n",
       "       [1.        , 0.0598358 ],\n",
       "       [1.        , 0.01731206],\n",
       "       [1.        , 0.07418147],\n",
       "       [1.        , 0.0398322 ],\n",
       "       [1.        , 0.09339955],\n",
       "       [1.        , 0.05347591],\n",
       "       [1.        , 0.05493676],\n",
       "       [1.        , 0.09296574],\n",
       "       [1.        , 0.07162166],\n",
       "       [1.        , 0.08508587],\n",
       "       [1.        , 0.02965408],\n",
       "       [1.        , 0.07103837],\n",
       "       [1.        , 0.05404649],\n",
       "       [1.        , 0.09280518],\n",
       "       [1.        , 0.06375911],\n",
       "       [1.        , 0.05046393],\n",
       "       [1.        , 0.04480257],\n",
       "       [1.        , 0.05180376],\n",
       "       [1.        , 0.06915919],\n",
       "       [1.        , 0.08156963],\n",
       "       [1.        , 0.07009717],\n",
       "       [1.        , 0.02248383],\n",
       "       [1.        , 0.06757402],\n",
       "       [1.        , 0.09367754],\n",
       "       [1.        , 0.01488311],\n",
       "       [1.        , 0.036156  ],\n",
       "       [1.        , 0.0326026 ],\n",
       "       [1.        , 0.09581487],\n",
       "       [1.        , 0.08999124],\n",
       "       [1.        , 0.06833227],\n",
       "       [1.        , 0.01229824],\n",
       "       [1.        , 0.07880653],\n",
       "       [1.        , 0.03298587],\n",
       "       [1.        , 0.08718403],\n",
       "       [1.        , 0.04849581],\n",
       "       [1.        , 0.00363195],\n",
       "       [1.        , 0.02105607],\n",
       "       [1.        , 0.07091708],\n",
       "       [1.        , 0.07949085],\n",
       "       [1.        , 0.02315853],\n",
       "       [1.        , 0.00719316],\n",
       "       [1.        , 0.06048829],\n",
       "       [1.        , 0.0193066 ],\n",
       "       [1.        , 0.00937891],\n",
       "       [1.        , 0.08198176],\n",
       "       [1.        , 0.07838995],\n",
       "       [1.        , 0.08193767],\n",
       "       [1.        , 0.02649022],\n",
       "       [1.        , 0.03299478],\n",
       "       [1.        , 0.0671971 ],\n",
       "       [1.        , 0.07690817],\n",
       "       [1.        , 0.04317831],\n",
       "       [1.        , 0.08181098],\n",
       "       [1.        , 0.07039871],\n",
       "       [1.        , 0.09577396],\n",
       "       [1.        , 0.08367379],\n",
       "       [1.        , 0.03132049],\n",
       "       [1.        , 0.00607601],\n",
       "       [1.        , 0.08655785],\n",
       "       [1.        , 0.06264774],\n",
       "       [1.        , 0.02077216],\n",
       "       [1.        , 0.02990145],\n",
       "       [1.        , 0.09916492],\n",
       "       [1.        , 0.06845698],\n",
       "       [1.        , 0.08326685],\n",
       "       [1.        , 0.02864879],\n",
       "       [1.        , 0.04830335],\n",
       "       [1.        , 0.00441468],\n",
       "       [1.        , 0.00496103],\n",
       "       [1.        , 0.07380953],\n",
       "       [1.        , 0.03792736],\n",
       "       [1.        , 0.00889317],\n",
       "       [1.        , 0.00425414],\n",
       "       [1.        , 0.07741599],\n",
       "       [1.        , 0.00192683],\n",
       "       [1.        , 0.01050215],\n",
       "       [1.        , 0.09503886],\n",
       "       [1.        , 0.07701579],\n",
       "       [1.        , 0.05414491],\n",
       "       [1.        , 0.06062106],\n",
       "       [1.        , 0.05647552],\n",
       "       [1.        , 0.09796579],\n",
       "       [1.        , 0.03943484],\n",
       "       [1.        , 0.02550557],\n",
       "       [1.        , 0.00794887],\n",
       "       [1.        , 0.07157433],\n",
       "       [1.        , 0.09815148],\n",
       "       [1.        , 0.0832    ],\n",
       "       [1.        , 0.07881602],\n",
       "       [1.        , 0.00501506],\n",
       "       [1.        , 0.0821674 ],\n",
       "       [1.        , 0.03118733],\n",
       "       [1.        , 0.07555612],\n",
       "       [1.        , 0.08587699],\n",
       "       [1.        , 0.08034809],\n",
       "       [1.        , 0.06167614],\n",
       "       [1.        , 0.07959143],\n",
       "       [1.        , 0.02006775],\n",
       "       [1.        , 0.09030601],\n",
       "       [1.        , 0.02582952],\n",
       "       [1.        , 0.0666478 ],\n",
       "       [1.        , 0.0154708 ],\n",
       "       [1.        , 0.08793562],\n",
       "       [1.        , 0.05185103],\n",
       "       [1.        , 0.04801987],\n",
       "       [1.        , 0.08431124],\n",
       "       [1.        , 0.09303721],\n",
       "       [1.        , 0.09514503],\n",
       "       [1.        , 0.05197532],\n",
       "       [1.        , 0.05245943],\n",
       "       [1.        , 0.04718515],\n",
       "       [1.        , 0.08199486],\n",
       "       [1.        , 0.06314244],\n",
       "       [1.        , 0.07533537],\n",
       "       [1.        , 0.09454541],\n",
       "       [1.        , 0.03788683],\n",
       "       [1.        , 0.09950402],\n",
       "       [1.        , 0.03832579],\n",
       "       [1.        , 0.09048945],\n",
       "       [1.        , 0.01582854],\n",
       "       [1.        , 0.02527492],\n",
       "       [1.        , 0.09954732],\n",
       "       [1.        , 0.08443345],\n",
       "       [1.        , 0.0742937 ],\n",
       "       [1.        , 0.09944404],\n",
       "       [1.        , 0.07384948],\n",
       "       [1.        , 0.06445431],\n",
       "       [1.        , 0.05041104],\n",
       "       [1.        , 0.04173096],\n",
       "       [1.        , 0.05564043],\n",
       "       [1.        , 0.02213967],\n",
       "       [1.        , 0.01805703],\n",
       "       [1.        , 0.07945861],\n",
       "       [1.        , 0.03185655],\n",
       "       [1.        , 0.05156577],\n",
       "       [1.        , 0.07078844],\n",
       "       [1.        , 0.07850901],\n",
       "       [1.        , 0.01977   ],\n",
       "       [1.        , 0.07749245],\n",
       "       [1.        , 0.03086309],\n",
       "       [1.        , 0.08394013],\n",
       "       [1.        , 0.09414848],\n",
       "       [1.        , 0.08434151],\n",
       "       [1.        , 0.01467705],\n",
       "       [1.        , 0.04363319],\n",
       "       [1.        , 0.0384225 ],\n",
       "       [1.        , 0.02883201],\n",
       "       [1.        , 0.00536891],\n",
       "       [1.        , 0.0678222 ],\n",
       "       [1.        , 0.02116351],\n",
       "       [1.        , 0.08594257],\n",
       "       [1.        , 0.06797233]])"
      ]
     },
     "execution_count": 12,
     "metadata": {},
     "output_type": "execute_result"
    }
   ],
   "source": [
    "r1.designMatrix()"
   ]
  },
  {
   "cell_type": "code",
   "execution_count": 13,
   "metadata": {
    "ExecuteTime": {
     "end_time": "2021-04-16T14:14:54.322037Z",
     "start_time": "2021-04-16T14:14:54.304256Z"
    }
   },
   "outputs": [
    {
     "data": {
      "text/plain": [
       "array([1.98604353, 3.23423651])"
      ]
     },
     "execution_count": 13,
     "metadata": {},
     "output_type": "execute_result"
    }
   ],
   "source": [
    "r1.ols()"
   ]
  },
  {
   "cell_type": "code",
   "execution_count": 14,
   "metadata": {
    "ExecuteTime": {
     "end_time": "2021-04-16T14:14:55.517192Z",
     "start_time": "2021-04-16T14:14:54.952618Z"
    }
   },
   "outputs": [
    {
     "name": "stdout",
     "output_type": "stream",
     "text": [
      "Model Parameters: [1.98604353 3.23423651]\n",
      "Sigma^2: 0.0091293920807182\n"
     ]
    }
   ],
   "source": [
    "r1.mle()"
   ]
  },
  {
   "cell_type": "code",
   "execution_count": 15,
   "metadata": {
    "ExecuteTime": {
     "end_time": "2021-04-16T14:14:57.021214Z",
     "start_time": "2021-04-16T14:14:55.585284Z"
    }
   },
   "outputs": [
    {
     "data": {
      "image/png": "[encoded data removed]",
      "text/plain": [
       "<Figure size 432x288 with 1 Axes>"
      ]
     },
     "metadata": {
      "needs_background": "light"
     },
     "output_type": "display_data"
    }
   ],
   "source": [
    "r1.plotData()"
   ]
  },
  {
   "cell_type": "code",
   "execution_count": 16,
   "metadata": {
    "ExecuteTime": {
     "end_time": "2021-04-16T14:14:57.620759Z",
     "start_time": "2021-04-16T14:14:57.023174Z"
    }
   },
   "outputs": [
    {
     "data": {
      "image/png": "[encoded data removed]",
      "text/plain": [
       "<Figure size 432x288 with 1 Axes>"
      ]
     },
     "metadata": {
      "needs_background": "light"
     },
     "output_type": "display_data"
    }
   ],
   "source": [
    "r1.olsPlot()"
   ]
  },
  {
   "cell_type": "code",
   "execution_count": 17,
   "metadata": {
    "ExecuteTime": {
     "end_time": "2021-04-16T14:14:59.471029Z",
     "start_time": "2021-04-16T14:14:59.331471Z"
    }
   },
   "outputs": [
    {
     "data": {
      "image/png": "[encoded data removed]",
      "text/plain": [
       "<Figure size 432x288 with 1 Axes>"
      ]
     },
     "metadata": {
      "needs_background": "light"
     },
     "output_type": "display_data"
    }
   ],
   "source": [
    "r1.mlePlot()"
   ]
  }
 ],
 "metadata": {
  "hide_input": false,
  "kernelspec": {
   "display_name": "Python 3",
   "language": "python",
   "name": "python3"
  },
  "language_info": {
   "codemirror_mode": {
    "name": "ipython",
    "version": 3
   },
   "file_extension": ".py",
   "mimetype": "text/x-python",
   "name": "python",
   "nbconvert_exporter": "python",
   "pygments_lexer": "ipython3",
   "version": "3.7.4"
  },
  "latex_envs": {
   "LaTeX_envs_menu_present": true,
   "autoclose": false,
   "autocomplete": true,
   "bibliofile": "biblio.bib",
   "cite_by": "apalike",
   "current_citInitial": 1,
   "eqLabelWithNumbers": true,
   "eqNumInitial": 1,
   "hotkeys": {
    "equation": "Ctrl-E",
    "itemize": "Ctrl-I"
   },
   "labels_anchors": false,
   "latex_user_defs": false,
   "report_style_numbering": false,
   "user_envs_cfg": false
  },
  "toc": {
   "base_numbering": 1,
   "nav_menu": {},
   "number_sections": true,
   "sideBar": true,
   "skip_h1_title": false,
   "title_cell": "Table of Contents",
   "title_sidebar": "Contents",
   "toc_cell": true,
   "toc_position": {},
   "toc_section_display": true,
   "toc_window_display": false
  }
 },
 "nbformat": 4,
 "nbformat_minor": 4
}
