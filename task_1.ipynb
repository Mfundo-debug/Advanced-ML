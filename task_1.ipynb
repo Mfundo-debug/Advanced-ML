{
 "cells": [
  {
   "cell_type": "markdown",
   "metadata": {
    "toc": true
   },
   "source": [
    "<h1>Table of Contents<span class=\"tocSkip\"></span></h1>\n",
    "<div class=\"toc\"><ul class=\"toc-item\"><li><span><a href=\"#Mfundo-Monchwe\" data-toc-modified-id=\"Mfundo-Monchwe-1\"><span class=\"toc-item-num\">1&nbsp;&nbsp;</span>Mfundo Monchwe</a></span></li></ul></div>"
   ]
  },
  {
   "cell_type": "markdown",
   "metadata": {},
   "source": [
    "# Mfundo Monchwe"
   ]
  },
  {
   "cell_type": "markdown",
   "metadata": {},
   "source": [
    "Create matrix design, as a function, that returns X"
   ]
  },
  {
   "cell_type": "code",
   "execution_count": 1,
   "metadata": {
    "ExecuteTime": {
     "end_time": "2021-04-12T20:26:34.023426Z",
     "start_time": "2021-04-12T20:26:33.599463Z"
    }
   },
   "outputs": [],
   "source": [
    "import numpy as np\n",
    "import matplotlib.pyplot as plt"
   ]
  },
  {
   "cell_type": "code",
   "execution_count": 2,
   "metadata": {
    "ExecuteTime": {
     "end_time": "2021-04-12T20:26:38.744397Z",
     "start_time": "2021-04-12T20:26:38.723449Z"
    }
   },
   "outputs": [],
   "source": [
    "class SimpleRegression():\n",
    "    \"\"\"\n",
    "    description about your model \n",
    "    \"\"\"\n",
    "    def __init__(self, n, mu, sigma):\n",
    "        self.n = n\n",
    "        self.mu = mu\n",
    "        self.sigma = sigma\n",
    "        \n",
    "    def designMatrix(self):\n",
    "        global X, y_ob, x\n",
    "        x = np.random.uniform(self.mu, self.sigma, self.n)\n",
    "        y = 2 + 3*x\n",
    "        y_ob = y + np.random.normal(self.mu, self.sigma, self.n)\n",
    "        X = np.c_[np.ones(self.n), x]\n",
    "        return X\n",
    "    \n",
    "    def plotData(self):\n",
    "        plt.plot(x, y_ob, '.');\n",
    "    \n",
    "    def modelParameter(self):\n",
    "        global θ\n",
    "        θ = np.linalg.inv(X.T.dot(X)).dot(X.T).dot(y_ob)\n",
    "        return θ\n",
    "    \n",
    "    def modelPlot(self):\n",
    "        xc = x[np.argsort(x)] # need for y = b0 + b1xc\n",
    "        plt.plot(x, y_ob, '.'); # Model plot\n",
    "        plt.plot(xc, θ[0] + θ[1]*xc);\n",
    "        plt.show();"
   ]
  },
  {
   "cell_type": "code",
   "execution_count": 3,
   "metadata": {
    "ExecuteTime": {
     "end_time": "2021-04-12T20:32:48.456292Z",
     "start_time": "2021-04-12T20:32:48.452303Z"
    }
   },
   "outputs": [],
   "source": [
    "r1 = SimpleRegression(200, 0, 0.1)"
   ]
  },
  {
   "cell_type": "code",
   "execution_count": 4,
   "metadata": {
    "ExecuteTime": {
     "end_time": "2021-04-12T20:32:51.205864Z",
     "start_time": "2021-04-12T20:32:51.081159Z"
    }
   },
   "outputs": [
    {
     "data": {
      "text/plain": [
       "array([[1.00000000e+00, 5.18760651e-02],\n",
       "       [1.00000000e+00, 9.43370880e-02],\n",
       "       [1.00000000e+00, 2.76739923e-02],\n",
       "       [1.00000000e+00, 8.32696789e-02],\n",
       "       [1.00000000e+00, 2.61286584e-02],\n",
       "       [1.00000000e+00, 9.89619850e-02],\n",
       "       [1.00000000e+00, 6.64427345e-02],\n",
       "       [1.00000000e+00, 7.21057539e-02],\n",
       "       [1.00000000e+00, 9.72936393e-02],\n",
       "       [1.00000000e+00, 7.93132815e-02],\n",
       "       [1.00000000e+00, 3.81686803e-02],\n",
       "       [1.00000000e+00, 1.10385113e-02],\n",
       "       [1.00000000e+00, 5.80074942e-02],\n",
       "       [1.00000000e+00, 7.16481106e-02],\n",
       "       [1.00000000e+00, 3.33377212e-02],\n",
       "       [1.00000000e+00, 2.15461114e-02],\n",
       "       [1.00000000e+00, 5.11731717e-03],\n",
       "       [1.00000000e+00, 3.18066008e-02],\n",
       "       [1.00000000e+00, 9.80529061e-02],\n",
       "       [1.00000000e+00, 6.01048388e-02],\n",
       "       [1.00000000e+00, 7.18736159e-02],\n",
       "       [1.00000000e+00, 5.81682828e-02],\n",
       "       [1.00000000e+00, 8.73770545e-02],\n",
       "       [1.00000000e+00, 3.82237335e-02],\n",
       "       [1.00000000e+00, 4.28593035e-02],\n",
       "       [1.00000000e+00, 7.48630401e-02],\n",
       "       [1.00000000e+00, 1.09691760e-02],\n",
       "       [1.00000000e+00, 6.27920010e-02],\n",
       "       [1.00000000e+00, 5.40302362e-02],\n",
       "       [1.00000000e+00, 9.24979059e-02],\n",
       "       [1.00000000e+00, 3.70438222e-02],\n",
       "       [1.00000000e+00, 8.89302448e-04],\n",
       "       [1.00000000e+00, 8.29683403e-02],\n",
       "       [1.00000000e+00, 5.45986416e-02],\n",
       "       [1.00000000e+00, 3.83947714e-02],\n",
       "       [1.00000000e+00, 2.65066193e-02],\n",
       "       [1.00000000e+00, 3.89774829e-02],\n",
       "       [1.00000000e+00, 7.56934973e-02],\n",
       "       [1.00000000e+00, 3.33212777e-02],\n",
       "       [1.00000000e+00, 6.32265193e-02],\n",
       "       [1.00000000e+00, 8.19355933e-02],\n",
       "       [1.00000000e+00, 8.41301495e-02],\n",
       "       [1.00000000e+00, 9.08225243e-02],\n",
       "       [1.00000000e+00, 5.83100075e-02],\n",
       "       [1.00000000e+00, 7.36533722e-02],\n",
       "       [1.00000000e+00, 6.71533095e-02],\n",
       "       [1.00000000e+00, 2.73109025e-02],\n",
       "       [1.00000000e+00, 7.83656043e-02],\n",
       "       [1.00000000e+00, 9.69881984e-02],\n",
       "       [1.00000000e+00, 8.94468258e-02],\n",
       "       [1.00000000e+00, 6.85178527e-02],\n",
       "       [1.00000000e+00, 2.39080495e-04],\n",
       "       [1.00000000e+00, 9.95849202e-02],\n",
       "       [1.00000000e+00, 6.71986582e-02],\n",
       "       [1.00000000e+00, 9.84353156e-02],\n",
       "       [1.00000000e+00, 4.52873878e-03],\n",
       "       [1.00000000e+00, 8.11575071e-02],\n",
       "       [1.00000000e+00, 3.02939387e-02],\n",
       "       [1.00000000e+00, 6.81287023e-03],\n",
       "       [1.00000000e+00, 3.41170441e-02],\n",
       "       [1.00000000e+00, 9.76654325e-02],\n",
       "       [1.00000000e+00, 5.68646063e-02],\n",
       "       [1.00000000e+00, 6.65342476e-02],\n",
       "       [1.00000000e+00, 9.01112615e-02],\n",
       "       [1.00000000e+00, 5.62678205e-02],\n",
       "       [1.00000000e+00, 7.45614988e-03],\n",
       "       [1.00000000e+00, 1.37497670e-02],\n",
       "       [1.00000000e+00, 7.08944465e-02],\n",
       "       [1.00000000e+00, 8.41865070e-02],\n",
       "       [1.00000000e+00, 9.71989827e-02],\n",
       "       [1.00000000e+00, 4.81375939e-02],\n",
       "       [1.00000000e+00, 2.15395639e-02],\n",
       "       [1.00000000e+00, 4.97879473e-03],\n",
       "       [1.00000000e+00, 5.82912863e-02],\n",
       "       [1.00000000e+00, 5.22363361e-02],\n",
       "       [1.00000000e+00, 3.62832058e-02],\n",
       "       [1.00000000e+00, 3.43860352e-02],\n",
       "       [1.00000000e+00, 4.79515270e-02],\n",
       "       [1.00000000e+00, 8.13521403e-02],\n",
       "       [1.00000000e+00, 7.84525517e-02],\n",
       "       [1.00000000e+00, 7.38063273e-02],\n",
       "       [1.00000000e+00, 1.33300600e-02],\n",
       "       [1.00000000e+00, 2.72752552e-02],\n",
       "       [1.00000000e+00, 6.76163327e-02],\n",
       "       [1.00000000e+00, 4.43337862e-02],\n",
       "       [1.00000000e+00, 6.87785166e-02],\n",
       "       [1.00000000e+00, 3.43577755e-02],\n",
       "       [1.00000000e+00, 7.61633828e-02],\n",
       "       [1.00000000e+00, 2.34588950e-04],\n",
       "       [1.00000000e+00, 3.83528508e-02],\n",
       "       [1.00000000e+00, 5.82429145e-02],\n",
       "       [1.00000000e+00, 3.30678310e-02],\n",
       "       [1.00000000e+00, 7.65637146e-02],\n",
       "       [1.00000000e+00, 5.83637068e-02],\n",
       "       [1.00000000e+00, 6.74093300e-02],\n",
       "       [1.00000000e+00, 8.92456418e-02],\n",
       "       [1.00000000e+00, 9.23503173e-02],\n",
       "       [1.00000000e+00, 5.90067102e-02],\n",
       "       [1.00000000e+00, 2.78473866e-02],\n",
       "       [1.00000000e+00, 3.94319169e-02],\n",
       "       [1.00000000e+00, 2.70954235e-02],\n",
       "       [1.00000000e+00, 3.70861920e-02],\n",
       "       [1.00000000e+00, 6.61843203e-02],\n",
       "       [1.00000000e+00, 8.42053638e-03],\n",
       "       [1.00000000e+00, 9.73008474e-02],\n",
       "       [1.00000000e+00, 3.55850561e-02],\n",
       "       [1.00000000e+00, 6.86794311e-02],\n",
       "       [1.00000000e+00, 4.14248055e-02],\n",
       "       [1.00000000e+00, 2.44136057e-02],\n",
       "       [1.00000000e+00, 6.65008419e-02],\n",
       "       [1.00000000e+00, 4.75083855e-02],\n",
       "       [1.00000000e+00, 6.75543715e-02],\n",
       "       [1.00000000e+00, 4.01256387e-04],\n",
       "       [1.00000000e+00, 5.99319162e-02],\n",
       "       [1.00000000e+00, 7.21474103e-02],\n",
       "       [1.00000000e+00, 2.66356837e-02],\n",
       "       [1.00000000e+00, 6.23023302e-02],\n",
       "       [1.00000000e+00, 2.94443609e-02],\n",
       "       [1.00000000e+00, 1.90164979e-02],\n",
       "       [1.00000000e+00, 7.30043751e-02],\n",
       "       [1.00000000e+00, 5.74490888e-02],\n",
       "       [1.00000000e+00, 1.78095033e-02],\n",
       "       [1.00000000e+00, 8.91047160e-02],\n",
       "       [1.00000000e+00, 4.78565792e-02],\n",
       "       [1.00000000e+00, 1.44476525e-02],\n",
       "       [1.00000000e+00, 5.38224780e-03],\n",
       "       [1.00000000e+00, 3.76260449e-02],\n",
       "       [1.00000000e+00, 5.86475387e-02],\n",
       "       [1.00000000e+00, 5.29664330e-02],\n",
       "       [1.00000000e+00, 4.37509625e-02],\n",
       "       [1.00000000e+00, 5.69071656e-02],\n",
       "       [1.00000000e+00, 3.77016453e-02],\n",
       "       [1.00000000e+00, 1.44364818e-02],\n",
       "       [1.00000000e+00, 3.32175749e-02],\n",
       "       [1.00000000e+00, 3.44499962e-02],\n",
       "       [1.00000000e+00, 3.97620019e-02],\n",
       "       [1.00000000e+00, 2.16120902e-02],\n",
       "       [1.00000000e+00, 6.13712307e-02],\n",
       "       [1.00000000e+00, 4.95577743e-02],\n",
       "       [1.00000000e+00, 3.61104571e-02],\n",
       "       [1.00000000e+00, 9.97462822e-03],\n",
       "       [1.00000000e+00, 2.63677079e-02],\n",
       "       [1.00000000e+00, 9.32599082e-02],\n",
       "       [1.00000000e+00, 5.24816923e-02],\n",
       "       [1.00000000e+00, 1.54091085e-02],\n",
       "       [1.00000000e+00, 3.75500056e-02],\n",
       "       [1.00000000e+00, 7.99950731e-02],\n",
       "       [1.00000000e+00, 5.09144445e-02],\n",
       "       [1.00000000e+00, 8.48109825e-02],\n",
       "       [1.00000000e+00, 8.57611872e-02],\n",
       "       [1.00000000e+00, 1.31379475e-03],\n",
       "       [1.00000000e+00, 9.65958731e-02],\n",
       "       [1.00000000e+00, 7.47533447e-02],\n",
       "       [1.00000000e+00, 8.99595738e-02],\n",
       "       [1.00000000e+00, 1.15063678e-02],\n",
       "       [1.00000000e+00, 8.22931941e-02],\n",
       "       [1.00000000e+00, 2.09963145e-02],\n",
       "       [1.00000000e+00, 4.10502636e-02],\n",
       "       [1.00000000e+00, 7.53722674e-02],\n",
       "       [1.00000000e+00, 5.88241040e-02],\n",
       "       [1.00000000e+00, 8.14574663e-02],\n",
       "       [1.00000000e+00, 9.81277279e-03],\n",
       "       [1.00000000e+00, 9.52663309e-02],\n",
       "       [1.00000000e+00, 3.32502082e-02],\n",
       "       [1.00000000e+00, 8.46958349e-02],\n",
       "       [1.00000000e+00, 8.46755460e-02],\n",
       "       [1.00000000e+00, 7.16678435e-02],\n",
       "       [1.00000000e+00, 1.20579448e-02],\n",
       "       [1.00000000e+00, 2.36150145e-02],\n",
       "       [1.00000000e+00, 1.48524489e-02],\n",
       "       [1.00000000e+00, 1.80370554e-02],\n",
       "       [1.00000000e+00, 3.95667040e-02],\n",
       "       [1.00000000e+00, 5.19154964e-02],\n",
       "       [1.00000000e+00, 4.48207562e-02],\n",
       "       [1.00000000e+00, 8.45740096e-02],\n",
       "       [1.00000000e+00, 6.56750028e-02],\n",
       "       [1.00000000e+00, 8.29028619e-02],\n",
       "       [1.00000000e+00, 9.08518478e-02],\n",
       "       [1.00000000e+00, 2.76152475e-02],\n",
       "       [1.00000000e+00, 8.30568241e-02],\n",
       "       [1.00000000e+00, 9.73267951e-02],\n",
       "       [1.00000000e+00, 4.54225046e-02],\n",
       "       [1.00000000e+00, 8.03431053e-02],\n",
       "       [1.00000000e+00, 8.19450540e-02],\n",
       "       [1.00000000e+00, 1.72655568e-02],\n",
       "       [1.00000000e+00, 4.87245721e-02],\n",
       "       [1.00000000e+00, 2.67586086e-04],\n",
       "       [1.00000000e+00, 7.70383797e-02],\n",
       "       [1.00000000e+00, 5.40895159e-02],\n",
       "       [1.00000000e+00, 1.88240156e-02],\n",
       "       [1.00000000e+00, 8.38395604e-02],\n",
       "       [1.00000000e+00, 5.74611200e-02],\n",
       "       [1.00000000e+00, 6.19014085e-02],\n",
       "       [1.00000000e+00, 6.13392354e-02],\n",
       "       [1.00000000e+00, 4.71736639e-02],\n",
       "       [1.00000000e+00, 9.99544696e-02],\n",
       "       [1.00000000e+00, 7.40785820e-02],\n",
       "       [1.00000000e+00, 4.97260425e-02],\n",
       "       [1.00000000e+00, 9.08361992e-02],\n",
       "       [1.00000000e+00, 7.71686870e-02]])"
      ]
     },
     "execution_count": 4,
     "metadata": {},
     "output_type": "execute_result"
    }
   ],
   "source": [
    "r1.designMatrix()"
   ]
  },
  {
   "cell_type": "code",
   "execution_count": 6,
   "metadata": {},
   "outputs": [
    {
     "data": {
      "image/png": "[encoded data removed]",
      "text/plain": [
       "<Figure size 432x288 with 1 Axes>"
      ]
     },
     "metadata": {
      "needs_background": "light"
     },
     "output_type": "display_data"
    }
   ],
   "source": [
    "r1.plotData()"
   ]
  },
  {
   "cell_type": "code",
   "execution_count": 7,
   "metadata": {},
   "outputs": [
    {
     "data": {
      "text/plain": [
       "array([1.98540759, 3.39506996])"
      ]
     },
     "execution_count": 7,
     "metadata": {},
     "output_type": "execute_result"
    }
   ],
   "source": [
    "r1.modelParameter()"
   ]
  },
  {
   "cell_type": "code",
   "execution_count": 8,
   "metadata": {},
   "outputs": [
    {
     "data": {
      "image/png": "[encoded data removed]",
      "text/plain": [
       "<Figure size 432x288 with 1 Axes>"
      ]
     },
     "metadata": {
      "needs_background": "light"
     },
     "output_type": "display_data"
    }
   ],
   "source": [
    "r1.modelPlot()"
   ]
  },
  {
   "cell_type": "code",
   "execution_count": null,
   "metadata": {},
   "outputs": [],
   "source": []
  }
 ],
 "metadata": {
  "hide_input": false,
  "kernelspec": {
   "display_name": "Python 3",
   "language": "python",
   "name": "python3"
  },
  "language_info": {
   "codemirror_mode": {
    "name": "ipython",
    "version": 3
   },
   "file_extension": ".py",
   "mimetype": "text/x-python",
   "name": "python",
   "nbconvert_exporter": "python",
   "pygments_lexer": "ipython3",
   "version": "3.7.4"
  },
  "latex_envs": {
   "LaTeX_envs_menu_present": true,
   "autoclose": false,
   "autocomplete": true,
   "bibliofile": "biblio.bib",
   "cite_by": "apalike",
   "current_citInitial": 1,
   "eqLabelWithNumbers": true,
   "eqNumInitial": 1,
   "hotkeys": {
    "equation": "Ctrl-E",
    "itemize": "Ctrl-I"
   },
   "labels_anchors": false,
   "latex_user_defs": false,
   "report_style_numbering": false,
   "user_envs_cfg": false
  },
  "toc": {
   "base_numbering": 1,
   "nav_menu": {},
   "number_sections": true,
   "sideBar": true,
   "skip_h1_title": false,
   "title_cell": "Table of Contents",
   "title_sidebar": "Contents",
   "toc_cell": true,
   "toc_position": {},
   "toc_section_display": true,
   "toc_window_display": false
  }
 },
 "nbformat": 4,
 "nbformat_minor": 4
}
