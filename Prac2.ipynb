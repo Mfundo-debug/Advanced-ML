{
 "cells": [
  {
   "cell_type": "markdown",
   "metadata": {},
   "source": [
    "# Mfundo Monchwe \n",
    "\n",
    "## NAML841"
   ]
  },
  {
   "cell_type": "code",
   "execution_count": 1,
   "metadata": {},
   "outputs": [],
   "source": [
    "import numpy as np\n",
    "import matplotlib.pyplot as plt"
   ]
  },
  {
   "cell_type": "code",
   "execution_count": 2,
   "metadata": {},
   "outputs": [],
   "source": [
    "x = np.random.uniform(5,0, 100)\n",
    "a,b,c = 1, 2, 3,\n",
    "ϵ = np.random.normal(0,0.5,100)\n",
    "y = a + b*x + c*x**2 + ϵ"
   ]
  },
  {
   "cell_type": "code",
   "execution_count": 5,
   "metadata": {},
   "outputs": [],
   "source": [
    "class polyreg:\n",
    "    def __init__(self, x, y,deg):\n",
    "        self.x = x\n",
    "        self.y = y\n",
    "        self.deg = deg\n",
    "        \n",
    "    def designMatrix(self):\n",
    "        return np.c_[np.ones(len(self.x)), self.x, self.x**self.deg]\n",
    "    \n",
    "    def poly(self):\n",
    "        X = self.designMatrix()\n",
    "        α= np.linalg.inv(X.T.dot(X)).dot(X.T).dot(self.y)\n",
    "        var = (1/X.shape[0])*(self.y-X.dot(α)).T.dot(self.y-X.dot(α))\n",
    "        polyfit= np.poly1d(np.flip(α))\n",
    "        param = [α, var, polyfit]\n",
    "        return param\n",
    "    \n",
    "    def polyplot(self):\n",
    "        x = np.array([1,2,3,4,5,6,7])\n",
    "        y = np.array([100, 80, 60,40,60,80,100])\n",
    "        α,var = self.fit()[0],self.fit()[1]\n",
    "        y =α[0] + α[1]* x + α[2]* x**self.deg\n",
    "        plt.scatter(self.x, self.y, label ='data')\n",
    "        plt.plot(x, y, 'r', label = 'Model')\n",
    "        plt.plot(x, y+1*np.sqrt(var), 'b', label= 'y+1sd')\n",
    "        plt.plot(x,y-1*np.sqrt(var),'k', label= 'y-1sd')\n",
    "        plt.ylabel('y', rotation =0, labelpad = 20)\n",
    "        plt.xlabel('x', labelpad = 10)\n",
    "        plt.legend()\n",
    "        plt.show()\n",
    "    \n",
    "    \n",
    "    \n",
    "    def fit(self):\n",
    "        X = self.designMatrix()\n",
    "        θ = np.linalg.inv(X.T.dot(X)).dot(X.T).dot(self.y)\n",
    "        s = (1/X.shape[0])*(self.y-X.dot(θ)).T.dot(self.y-X.dot(θ))\n",
    "        params = [θ, s]\n",
    "        return params\n",
    "    \n",
    "    def predict(self,x):\n",
    "        θ = self.fit()[0]\n",
    "        y = θ[0] + θ[1]* x + θ[2]* x**self.deg\n",
    "        return y\n",
    "    \n",
    "    def ridge(self):\n",
    "        X = self.designMatrix()\n",
    "        λ = 10\n",
    "        I = np.eye(3)\n",
    "        I[0,0] = 0\n",
    "        θ_r = np.linalg.inv(X.T.dot(X) + λ*I).dot(X.T).dot(self.y)\n",
    "        return θ_r\n",
    "    \n",
    "    def plot(self):\n",
    "        x = np.linspace(0, 5, 100)\n",
    "        θ,s = self.fit()[0],self.fit()[1]\n",
    "        y = θ[0] + θ[1]* x + θ[2]* x**self.deg\n",
    "        plt.scatter(self.x, self.y, label ='data')\n",
    "        plt.plot(x, y, 'r', label = 'Model')\n",
    "        plt.plot(x, y+2*np.sqrt(s), 'b', label= 'y+2*sd')\n",
    "        plt.plot(x,y-2*np.sqrt(s),'k', label= 'y-2*sd')\n",
    "        plt.ylabel('y', rotation =0, labelpad = 20)\n",
    "        plt.xlabel('x', labelpad = 10)\n",
    "        plt.legend()\n",
    "        plt.show()\n",
    "       "
   ]
  },
  {
   "cell_type": "code",
   "execution_count": 15,
   "metadata": {},
   "outputs": [],
   "source": [
    "model = polyreg(x,y,3)"
   ]
  },
  {
   "cell_type": "code",
   "execution_count": 7,
   "metadata": {},
   "outputs": [
    {
     "data": {
      "text/plain": [
       "array([[1.00000000e+00, 3.85200849e+00, 5.71559842e+01],\n",
       "       [1.00000000e+00, 3.47030025e+00, 4.17927698e+01],\n",
       "       [1.00000000e+00, 2.16664024e+00, 1.01709242e+01],\n",
       "       [1.00000000e+00, 2.92548196e+00, 2.50375755e+01],\n",
       "       [1.00000000e+00, 4.39345874e+00, 8.48046482e+01],\n",
       "       [1.00000000e+00, 7.42446981e-01, 4.09257207e-01],\n",
       "       [1.00000000e+00, 5.63742410e-01, 1.79160441e-01],\n",
       "       [1.00000000e+00, 3.58319919e+00, 4.60058283e+01],\n",
       "       [1.00000000e+00, 4.56712597e+00, 9.52640347e+01],\n",
       "       [1.00000000e+00, 2.47612629e+00, 1.51816290e+01],\n",
       "       [1.00000000e+00, 2.78098071e+00, 2.15076980e+01],\n",
       "       [1.00000000e+00, 5.66720635e-01, 1.82014958e-01],\n",
       "       [1.00000000e+00, 3.79477010e+00, 5.46457525e+01],\n",
       "       [1.00000000e+00, 2.94070703e-01, 2.54305223e-02],\n",
       "       [1.00000000e+00, 4.71107525e+00, 1.04558687e+02],\n",
       "       [1.00000000e+00, 2.61421199e+00, 1.78657975e+01],\n",
       "       [1.00000000e+00, 2.10190600e+00, 9.28623927e+00],\n",
       "       [1.00000000e+00, 3.20831515e+00, 3.30241059e+01],\n",
       "       [1.00000000e+00, 3.61200964e+00, 4.71244941e+01],\n",
       "       [1.00000000e+00, 3.39584067e+00, 3.91599309e+01],\n",
       "       [1.00000000e+00, 3.57613751e+00, 4.57343625e+01],\n",
       "       [1.00000000e+00, 1.31140138e+00, 2.25531345e+00],\n",
       "       [1.00000000e+00, 1.29612479e+00, 2.17741119e+00],\n",
       "       [1.00000000e+00, 2.12430556e+00, 9.58629869e+00],\n",
       "       [1.00000000e+00, 2.90257178e+00, 2.44539437e+01],\n",
       "       [1.00000000e+00, 2.88373700e+00, 2.39809813e+01],\n",
       "       [1.00000000e+00, 3.65496784e+00, 4.88259476e+01],\n",
       "       [1.00000000e+00, 1.44153742e+00, 2.99555822e+00],\n",
       "       [1.00000000e+00, 9.94424957e-01, 9.83367942e-01],\n",
       "       [1.00000000e+00, 1.93741982e+00, 7.27229042e+00],\n",
       "       [1.00000000e+00, 4.41765850e+00, 8.62137273e+01],\n",
       "       [1.00000000e+00, 4.01913697e+00, 6.49229760e+01],\n",
       "       [1.00000000e+00, 3.32056162e+00, 3.66129423e+01],\n",
       "       [1.00000000e+00, 1.23784009e+00, 1.89667810e+00],\n",
       "       [1.00000000e+00, 3.65847754e+00, 4.89667389e+01],\n",
       "       [1.00000000e+00, 4.73193818e+00, 1.05953958e+02],\n",
       "       [1.00000000e+00, 7.62788843e-01, 4.43826262e-01],\n",
       "       [1.00000000e+00, 1.86923796e+00, 6.53121190e+00],\n",
       "       [1.00000000e+00, 1.76293678e+00, 5.47911249e+00],\n",
       "       [1.00000000e+00, 1.42303799e+00, 2.88170478e+00],\n",
       "       [1.00000000e+00, 4.33282937e+00, 8.13419840e+01],\n",
       "       [1.00000000e+00, 3.28438682e+00, 3.54293270e+01],\n",
       "       [1.00000000e+00, 1.07339652e-01, 1.23674610e-03],\n",
       "       [1.00000000e+00, 1.14003445e+00, 1.48167833e+00],\n",
       "       [1.00000000e+00, 4.47946334e+00, 8.98830828e+01],\n",
       "       [1.00000000e+00, 3.77839239e+00, 5.39412706e+01],\n",
       "       [1.00000000e+00, 6.10719490e-02, 2.27785115e-04],\n",
       "       [1.00000000e+00, 3.99615575e+00, 6.38156535e+01],\n",
       "       [1.00000000e+00, 4.98828200e+00, 1.24123208e+02],\n",
       "       [1.00000000e+00, 1.09568908e+00, 1.31541261e+00],\n",
       "       [1.00000000e+00, 3.57405915e+00, 4.56546701e+01],\n",
       "       [1.00000000e+00, 4.76410232e+00, 1.08129262e+02],\n",
       "       [1.00000000e+00, 1.52248206e+00, 3.52903973e+00],\n",
       "       [1.00000000e+00, 2.82300617e+00, 2.24975632e+01],\n",
       "       [1.00000000e+00, 2.29965726e+00, 1.21615615e+01],\n",
       "       [1.00000000e+00, 4.70139420e+00, 1.03915421e+02],\n",
       "       [1.00000000e+00, 8.10713403e-02, 5.32846428e-04],\n",
       "       [1.00000000e+00, 1.99277126e-01, 7.91356832e-03],\n",
       "       [1.00000000e+00, 3.74419795e-01, 5.24899794e-02],\n",
       "       [1.00000000e+00, 4.81644856e+00, 1.11732825e+02],\n",
       "       [1.00000000e+00, 2.48282121e+00, 1.53051059e+01],\n",
       "       [1.00000000e+00, 3.18651073e+00, 3.23553541e+01],\n",
       "       [1.00000000e+00, 6.33596887e-01, 2.54354312e-01],\n",
       "       [1.00000000e+00, 3.19764284e+00, 3.26956415e+01],\n",
       "       [1.00000000e+00, 7.83918878e-01, 4.81740733e-01],\n",
       "       [1.00000000e+00, 3.45394230e+00, 4.12045555e+01],\n",
       "       [1.00000000e+00, 2.26150291e+00, 1.15662202e+01],\n",
       "       [1.00000000e+00, 1.26746279e+00, 2.03613071e+00],\n",
       "       [1.00000000e+00, 1.59592198e+00, 4.06476055e+00],\n",
       "       [1.00000000e+00, 3.86209099e-01, 5.76059714e-02],\n",
       "       [1.00000000e+00, 4.84368352e+00, 1.13638967e+02],\n",
       "       [1.00000000e+00, 3.88488302e+00, 5.86318824e+01],\n",
       "       [1.00000000e+00, 9.56552679e-01, 8.75239031e-01],\n",
       "       [1.00000000e+00, 4.40254671e+00, 8.53319984e+01],\n",
       "       [1.00000000e+00, 3.74950379e+00, 5.27134440e+01],\n",
       "       [1.00000000e+00, 4.16403052e+00, 7.22007503e+01],\n",
       "       [1.00000000e+00, 2.08194402e+00, 9.02416743e+00],\n",
       "       [1.00000000e+00, 2.18860947e+00, 1.04834644e+01],\n",
       "       [1.00000000e+00, 4.17571747e+00, 7.28103836e+01],\n",
       "       [1.00000000e+00, 2.24706724e+00, 1.13461417e+01],\n",
       "       [1.00000000e+00, 2.05638387e+00, 8.69586055e+00],\n",
       "       [1.00000000e+00, 2.26514876e+00, 1.16222492e+01],\n",
       "       [1.00000000e+00, 4.42055495e-01, 8.63834174e-02],\n",
       "       [1.00000000e+00, 7.99903451e-01, 5.11814648e-01],\n",
       "       [1.00000000e+00, 3.41429050e-01, 3.98016805e-02],\n",
       "       [1.00000000e+00, 4.39195120e+00, 8.47173803e+01],\n",
       "       [1.00000000e+00, 2.05207708e+00, 8.64133838e+00],\n",
       "       [1.00000000e+00, 1.73114289e+00, 5.18798546e+00],\n",
       "       [1.00000000e+00, 4.79804856e+00, 1.10457171e+02],\n",
       "       [1.00000000e+00, 2.48673974e+00, 1.53776866e+01],\n",
       "       [1.00000000e+00, 2.93763976e+00, 2.53510302e+01],\n",
       "       [1.00000000e+00, 3.25326282e+00, 3.44316196e+01],\n",
       "       [1.00000000e+00, 2.26446876e+00, 1.16117853e+01],\n",
       "       [1.00000000e+00, 2.46924976e+00, 1.50554958e+01],\n",
       "       [1.00000000e+00, 1.16510704e+00, 1.58160301e+00],\n",
       "       [1.00000000e+00, 1.92902392e+00, 7.17815511e+00],\n",
       "       [1.00000000e+00, 1.34707775e+00, 2.44443216e+00],\n",
       "       [1.00000000e+00, 1.01984669e+00, 1.06072956e+00],\n",
       "       [1.00000000e+00, 3.73951341e+00, 5.22932079e+01],\n",
       "       [1.00000000e+00, 2.24084769e+00, 1.12521889e+01]])"
      ]
     },
     "execution_count": 7,
     "metadata": {},
     "output_type": "execute_result"
    }
   ],
   "source": [
    "model.designMatrix()"
   ]
  },
  {
   "cell_type": "code",
   "execution_count": 8,
   "metadata": {},
   "outputs": [
    {
     "data": {
      "text/plain": [
       "[array([-2.05090497,  8.33320403,  0.38917458]), 1.0888452823483312]"
      ]
     },
     "execution_count": 8,
     "metadata": {},
     "output_type": "execute_result"
    }
   ],
   "source": [
    "model.fit()"
   ]
  },
  {
   "cell_type": "code",
   "execution_count": 16,
   "metadata": {},
   "outputs": [
    {
     "data": {
      "text/plain": [
       "[array([124.81203008, -25.73099415,   0.46783626]),\n",
       " 39.52738990332975,\n",
       " poly1d([  0.46783626, -25.73099415, 124.81203008])]"
      ]
     },
     "execution_count": 16,
     "metadata": {},
     "output_type": "execute_result"
    }
   ],
   "source": [
    "model.poly()"
   ]
  },
  {
   "cell_type": "code",
   "execution_count": 17,
   "metadata": {},
   "outputs": [],
   "source": [
    "x = np.array([1,2,3,4,5,6,7])\n",
    "y = np.array([100,80,60,40,60,80,100])"
   ]
  },
  {
   "cell_type": "code",
   "execution_count": 18,
   "metadata": {},
   "outputs": [
    {
     "data": {
      "image/png": "[encoded data removed]",
      "text/plain": [
       "<Figure size 432x288 with 1 Axes>"
      ]
     },
     "metadata": {
      "needs_background": "light"
     },
     "output_type": "display_data"
    }
   ],
   "source": [
    "model.polyplot()"
   ]
  },
  {
   "cell_type": "code",
   "execution_count": 12,
   "metadata": {},
   "outputs": [
    {
     "data": {
      "text/plain": [
       "array([  6.67147365,  17.72889975,  33.45642085,  56.18908443,\n",
       "        88.26193798, 132.01002901, 189.76840501])"
      ]
     },
     "execution_count": 12,
     "metadata": {},
     "output_type": "execute_result"
    }
   ],
   "source": [
    "model.predict(x)"
   ]
  },
  {
   "cell_type": "code",
   "execution_count": 13,
   "metadata": {},
   "outputs": [
    {
     "data": {
      "text/plain": [
       "array([0.68008739, 6.34731663, 0.4627079 ])"
      ]
     },
     "execution_count": 13,
     "metadata": {},
     "output_type": "execute_result"
    }
   ],
   "source": [
    "model.ridge()"
   ]
  },
  {
   "cell_type": "code",
   "execution_count": 14,
   "metadata": {},
   "outputs": [
    {
     "data": {
      "image/png": "[encoded data removed]",
      "text/plain": [
       "<Figure size 432x288 with 1 Axes>"
      ]
     },
     "metadata": {
      "needs_background": "light"
     },
     "output_type": "display_data"
    }
   ],
   "source": [
    "model.plot()"
   ]
  },
  {
   "cell_type": "code",
   "execution_count": null,
   "metadata": {},
   "outputs": [],
   "source": []
  }
 ],
 "metadata": {
  "kernelspec": {
   "display_name": "Python 3",
   "language": "python",
   "name": "python3"
  },
  "language_info": {
   "codemirror_mode": {
    "name": "ipython",
    "version": 3
   },
   "file_extension": ".py",
   "mimetype": "text/x-python",
   "name": "python",
   "nbconvert_exporter": "python",
   "pygments_lexer": "ipython3",
   "version": "3.7.4"
  }
 },
 "nbformat": 4,
 "nbformat_minor": 4
}
